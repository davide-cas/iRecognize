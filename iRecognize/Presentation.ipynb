{
 "cells": [
  {
   "cell_type": "markdown",
   "metadata": {
    "slideshow": {
     "slide_type": "slide"
    }
   },
   "source": [
    "<center><h2> iRecognize: Visual Intelligence Made Easy </h2> <br><br>\n",
    "    <center> <img src=\"material/logo.png\" width=\"35%\"> </center>"
   ]
  },
  {
   "cell_type": "markdown",
   "metadata": {
    "slideshow": {
     "slide_type": "subslide"
    }
   },
   "source": [
    "<center><h3> Introduction </h3></center><br>\n",
    "\n",
    "This project aims to make visual intelligence easier for users. How?\n",
    "<br> With a **Telegram bot** that allowsℹ️ this project aims, with a with a custom trained prediction model, to make the object detection task more understandable and easier to use.\n",
    "\n",
    "<p><a href https://github.com/davide-cas> Link to the repository </a></p>"
   ]
  },
  {
   "cell_type": "markdown",
   "metadata": {
    "slideshow": {
     "slide_type": "slide"
    }
   },
   "source": [
    "<center><h3> Prerequisities </h3></center> <br>\n",
    "\n",
    "* Linux, MacOS or Windows Subsistem for Linux (WSL2)\n",
    "* Python 3\n",
    "* Telegram\n",
    "* Docker"
   ]
  },
  {
   "cell_type": "markdown",
   "metadata": {
    "slideshow": {
     "slide_type": "subslide"
    }
   },
   "source": [
    "<center> <img src=\"material/meme0.png\" width=40%> </center>"
   ]
  },
  {
   "cell_type": "markdown",
   "metadata": {
    "slideshow": {
     "slide_type": "slide"
    }
   },
   "source": [
    "<center><h3> Data Pipeline </h3>\n",
    "<img src=\"material/pipeline.png\" width=42%></center>"
   ]
  },
  {
   "cell_type": "markdown",
   "metadata": {
    "slideshow": {
     "slide_type": "subslide"
    }
   },
   "source": [
    "<center><h3> Data Pipeline </h3></center>\n",
    "\n",
    "<ul style=\"float: center\">\n",
    "  <li> Data Source: Telegram </li>\n",
    "  <li> Data Ingestion: Logstash </li>\n",
    "  <li> Data Streaming: Kafka + KafkaUI </li>\n",
    "  <li> Data Processing: Spark + Microsoft Azure Cognitive Services </li>\n",
    "  <li> Data Storage: Elasticsearch </li>\n",
    "  <li> Data Visualization: Kibana </li>\n",
    "</ul>"
   ]
  },
  {
   "cell_type": "markdown",
   "metadata": {
    "slideshow": {
     "slide_type": "slide"
    }
   },
   "source": [
    "<center><h3> Data Source: Telegram </h3></center><br>\n",
    "You could use bots to:\n",
    "\n",
    "* Get customized notifications and news. A bot can act as a smart newspaper, sending you relevant content as soon as it's published.\n",
    "\n",
    "* Build social services. A bot could connect people looking for conversation partners based on common interests or proximity.\n",
    "\n",
    "* Accept payments from Telegram users. A bot can offer paid services or work as a virtual storefront.\n",
    "\n",
    "* Create custom tools. A bot may provide you with alerts, weather forecasts, translations, formatting or other services.\n",
    "\n",
    "Do virtually anything else. Except for dishes, bots are terrible at doing dishes."
   ]
  },
  {
   "cell_type": "markdown",
   "metadata": {
    "slideshow": {
     "slide_type": "subslide"
    }
   },
   "source": [
    "<center> <img src=\"material/meme1.jpg\"> </center>"
   ]
  },
  {
   "cell_type": "markdown",
   "metadata": {
    "slideshow": {
     "slide_type": "slide"
    }
   },
   "source": [
    "<center> <h3> Data Ingestion: Logstash </h3><br>\n",
    "<img src=\"material/logstash.png\" width=50%></center>"
   ]
  },
  {
   "cell_type": "markdown",
   "metadata": {
    "slideshow": {
     "slide_type": "fragment"
    }
   },
   "source": [
    "**Logstash** is an open source data collection engine with real-time pipelining capabilities. <br>\n",
    "It can dynamically centralize, transform and stash data from different sources into your chosen destination."
   ]
  },
  {
   "cell_type": "code",
   "execution_count": null,
   "metadata": {
    "slideshow": {
     "slide_type": "subslide"
    }
   },
   "outputs": [],
   "source": [
    "input {\n",
    "    file {\n",
    "        path => \"/usr/share/logstash/csv/filenames.csv\"\n",
    "        start_position => \"beginning\"\n",
    "    }\n",
    "}\n",
    "\n",
    "filter {\n",
    "    csv {\n",
    "        separator => \",\"\n",
    "        columns => [\"file_name\"]\n",
    "    }\n",
    "    \n",
    "    mutate {\n",
    "        remove_field => [\"@timestamp\", \"@version\", \"host\", \"path\", \"message\"]\n",
    "    }\n",
    "}\n",
    "\n",
    "output {\n",
    "    kafka {\n",
    "        codec => json\n",
    "        topic_id => \"tap\"\n",
    "        bootstrap_servers => \"kafkaserver:9092\"\n",
    "    }\n",
    "    stdout {}\n",
    "}"
   ]
  },
  {
   "cell_type": "markdown",
   "metadata": {
    "slideshow": {
     "slide_type": "slide"
    }
   },
   "source": [
    "<center> <h3> Data Streaming: Kafka </h3><br>\n",
    "<img  src=\"material/kafka.png\" width=30%> </center>"
   ]
  },
  {
   "cell_type": "markdown",
   "metadata": {
    "slideshow": {
     "slide_type": "fragment"
    }
   },
   "source": [
    "**Apache Kafka** is an open-source software which provides a framework for storing, reading and analysing streaming data. It is used for handling real time data feeds with low-latency and high-throughput. <br><br>"
   ]
  },
  {
   "cell_type": "markdown",
   "metadata": {
    "slideshow": {
     "slide_type": "fragment"
    }
   },
   "source": [
    "It is used for receiving file names from Logstash, storing and sending them to Spark for doing **object detection**."
   ]
  },
  {
   "cell_type": "markdown",
   "metadata": {
    "slideshow": {
     "slide_type": "subslide"
    }
   },
   "source": [
    "<center> <img src=\"material/meme2.png\"> </center>"
   ]
  },
  {
   "cell_type": "markdown",
   "metadata": {
    "slideshow": {
     "slide_type": "slide"
    }
   },
   "source": [
    "<center> <h3> Data Processing: Spark </h3><br>\n",
    "<img src=\"material/spark.png\" width=30%> </center>"
   ]
  },
  {
   "cell_type": "markdown",
   "metadata": {
    "slideshow": {
     "slide_type": "fragment"
    }
   },
   "source": [
    "**Apache Spark** is an open-source unified analytics engine for large-scale data processing. It allows an open-source parallel data processing with Python. <br>\n",
    "Useful for boosting the performance of applications that analyze big data."
   ]
  },
  {
   "cell_type": "markdown",
   "metadata": {
    "slideshow": {
     "slide_type": "subslide"
    }
   },
   "source": [
    "<center> <img  src=\"material/meme3.png\" width=50%> </center>"
   ]
  },
  {
   "cell_type": "markdown",
   "metadata": {
    "slideshow": {
     "slide_type": "subslide"
    }
   },
   "source": [
    "<center> <h3> Microsoft Azure Cognitive Services </h3><br>\n",
    "<img src=\"material/azure.png\" width=50%> </center>"
   ]
  },
  {
   "cell_type": "markdown",
   "metadata": {
    "slideshow": {
     "slide_type": "fragment"
    }
   },
   "source": [
    "**Cognitive Services** brings AI within reach of every developer without requiring machine learning expertise. All it takes is an API call to embed the ability to see, hear, speak, search, understand, and accelerate decision-making into your apps."
   ]
  },
  {
   "cell_type": "markdown",
   "metadata": {
    "slideshow": {
     "slide_type": "fragment"
    }
   },
   "source": [
    "It works with **Custom Vison**: a custom Computer Vision model trained with 80 different classes and about 5000 pictures of COCO's dataset."
   ]
  },
  {
   "cell_type": "markdown",
   "metadata": {
    "slideshow": {
     "slide_type": "subslide"
    }
   },
   "source": [
    "<center> <h3> Microsoft Azure Cognitive Services </h3><br>\n",
    "<img src=\"material/prediction.png\" width=70%> </center>"
   ]
  },
  {
   "cell_type": "markdown",
   "metadata": {
    "slideshow": {
     "slide_type": "fragment"
    }
   },
   "source": [
    "It should be noted that there is a poor level of recall. <br>\n",
    "This result is due to the fact that this model has been trained **using 5000 pictures**, a tiny amount for obtaining a good level of performance."
   ]
  },
  {
   "cell_type": "markdown",
   "metadata": {
    "slideshow": {
     "slide_type": "slide"
    }
   },
   "source": [
    "<center> <h3> Data Storage: Elasticsearch </h3>\n",
    "<img src=\"material/elasticsearch.png\"> </center>"
   ]
  },
  {
   "cell_type": "markdown",
   "metadata": {
    "slideshow": {
     "slide_type": "fragment"
    }
   },
   "source": [
    "**Elasticsearch**: a search engine that provides a real-time distributed, multitenant-capable full-text search engine.\n",
    "Useful for Data Storage."
   ]
  },
  {
   "cell_type": "markdown",
   "metadata": {
    "slideshow": {
     "slide_type": "slide"
    }
   },
   "source": [
    "<center> <h3> Data Visualization: Kibana </h3>\n",
    "<img src=\"material/kibana.png\" width=35%></center>"
   ]
  },
  {
   "cell_type": "markdown",
   "metadata": {
    "slideshow": {
     "slide_type": "fragment"
    }
   },
   "source": [
    "**Kibana** is a proprietary data visualization dashboard software for Elasticsearch. It is a data visualization and exploration tool used for log and time-series analytics, application monitoring, and operational intelligence use cases."
   ]
  },
  {
   "cell_type": "markdown",
   "metadata": {
    "slideshow": {
     "slide_type": "fragment"
    }
   },
   "source": [
    "It offers powerful and easy-to-use features such as histograms, line graphs, pie charts, heat maps, and built-in geospatial support."
   ]
  },
  {
   "cell_type": "markdown",
   "metadata": {
    "slideshow": {
     "slide_type": "slide"
    }
   },
   "source": [
    "<center><h3> Live Presentation </h3><br>\n",
    "<img src=\"material/meme4.png\" width=35%> </center>"
   ]
  },
  {
   "cell_type": "markdown",
   "metadata": {
    "slideshow": {
     "slide_type": "subslide"
    }
   },
   "source": [
    "<center><h3> Live Presentation </h3><br></center>\n",
    "<ul style=\"float: center;\">\n",
    "  <li> Start iRecognize script </li>\n",
    "  <li> Docker-compose up </li>\n",
    "</ul>\n"
   ]
  },
  {
   "cell_type": "markdown",
   "metadata": {
    "slideshow": {
     "slide_type": "slide"
    }
   },
   "source": [
    "<h3> Made by Davide Casano </h3>"
   ]
  }
 ],
 "metadata": {
  "celltoolbar": "Slideshow",
  "kernelspec": {
   "display_name": "Python 3",
   "language": "python",
   "name": "python3"
  },
  "language_info": {
   "codemirror_mode": {
    "name": "ipython",
    "version": 3
   },
   "file_extension": ".py",
   "mimetype": "text/x-python",
   "name": "python",
   "nbconvert_exporter": "python",
   "pygments_lexer": "ipython3",
   "version": "3.8.8"
  }
 },
 "nbformat": 4,
 "nbformat_minor": 4
}
